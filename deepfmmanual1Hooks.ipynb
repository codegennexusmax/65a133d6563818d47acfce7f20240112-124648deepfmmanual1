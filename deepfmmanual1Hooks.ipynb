{
 "cells": [
  {
   "cell_type": "markdown",
   "id": "b32483b6",
   "metadata": {},
   "source": [
    "***EXTENSIONS FOR deepfmmanual1 PIPELINE YOU CAN EDIT THESE EXTENSIONS***"
   ]
  },
  {
   "cell_type": "markdown",
   "id": "5e4707d6",
   "metadata": {},
   "source": [
    "***EXTENSIONS FOR SOURCE STAGE***"
   ]
  },
  {
   "cell_type": "code",
   "execution_count": null,
   "id": "d2078171",
   "metadata": {},
   "outputs": [],
   "source": [
    "def sourcePreExecutionHook():\n",
    "\tprint('inside source pre execution hook')\n",
    "\n",
    "\n",
    "def sourcePostExecutionHook(data):\n",
    "\tprint('inside source post execution hook')\n",
    "\n",
    "\n"
   ]
  },
  {
   "cell_type": "markdown",
   "id": "6533d16b",
   "metadata": {},
   "source": [
    "***EXTENSIONS FOR TRANSFORMATION STAGE***"
   ]
  },
  {
   "cell_type": "code",
   "execution_count": null,
   "id": "d0837c60",
   "metadata": {},
   "outputs": [],
   "source": [
    "def transformationPreExecutionHook():\n",
    "\tprint('inside transformation pre execution hook')\n",
    "\n",
    "\n",
    "def transformationPostExecutionHook(data):\n",
    "\tprint('inside transformation post execution hook')\n",
    "\n",
    "\n"
   ]
  },
  {
   "cell_type": "markdown",
   "id": "2db1df1a",
   "metadata": {},
   "source": [
    "***EXTENSIONS FOR ML STAGE***"
   ]
  },
  {
   "cell_type": "code",
   "execution_count": null,
   "id": "1f432a30",
   "metadata": {},
   "outputs": [],
   "source": [
    "def mlPreExecutionHook():\n",
    "\tprint('inside ml pre execution hook')\n",
    "\n",
    "\n",
    "def mlPostExecutionHook(data):\n",
    "\tprint('inside ml post execution hook')\n",
    "\n",
    "\n"
   ]
  }
 ],
 "metadata": {},
 "nbformat": 4,
 "nbformat_minor": 5
}
